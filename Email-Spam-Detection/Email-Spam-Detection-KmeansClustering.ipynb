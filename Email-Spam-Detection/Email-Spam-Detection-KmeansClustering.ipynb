{
 "cells": [
  {
   "cell_type": "code",
   "execution_count": null,
   "metadata": {},
   "outputs": [],
   "source": [
    "\n",
    "# Produced by: Kirubel Temesgen\n",
    "# College ID: C00260396\n",
    "# Description: Machine Learning Algorithm Overview"
   ]
  },
  {
   "cell_type": "code",
   "execution_count": null,
   "metadata": {},
   "outputs": [],
   "source": [
    "import pandas as pd\n",
    "import numpy as np\n",
    "import re\n",
    "import matplotlib.pyplot as plt\n",
    "import seaborn as sns\n",
    "from collections import Counter\n",
    "from sklearn.feature_extraction.text import TfidfVectorizer\n",
    "from sklearn.model_selection import train_test_split\n",
    "from scipy.sparse import hstack\n",
    "from sklearn.cluster import KMeans\n",
    "from sklearn.metrics import silhouette_score\n"
   ]
  },
  {
   "cell_type": "code",
   "execution_count": null,
   "metadata": {},
   "outputs": [],
   "source": [
    "# Load dataset\n",
    "file_path = r\"D:\\college\\Sem2\\DataSci ML\\archive\\emails.csv\"\n",
    "df = pd.read_csv(file_path).sample(frac=0.1, random_state=42)  # Use 10% of data for efficiency\n",
    "\n",
    "# Extract email components\n",
    "def extract_email_components(email):\n",
    "    from_match = re.search(r'From: (.+)', email)\n",
    "    subject_match = re.search(r'Subject: (.*)', email)\n",
    "    body_match = re.search(r'\\n\\n(.*)', email, re.DOTALL)  # Extract body after blank line\n",
    "\n",
    "    return {\n",
    "        \"From\": from_match.group(1).strip() if from_match else None,\n",
    "        \"Subject\": subject_match.group(1).strip() if subject_match else None,\n",
    "        \"Body\": body_match.group(1).strip() if body_match else None\n",
    "    }\n",
    "\n",
    "# Apply function to all emails\n",
    "email_components = df['message'].apply(extract_email_components)\n",
    "email_df = pd.DataFrame(email_components.tolist())\n",
    "\n",
    "# Merge extracted data with original DataFrame\n",
    "df = pd.concat([df, email_df], axis=1)\n",
    "\n",
    "# Drop unneeded columns\n",
    "df = df.drop(columns=[\"message\", \"file\"], errors=\"ignore\")\n",
    "\n",
    "# Drop rows with missing values\n",
    "df = df.dropna(subset=[\"From\", \"Subject\", \"Body\"])\n"
   ]
  },
  {
   "cell_type": "code",
   "execution_count": null,
   "metadata": {},
   "outputs": [],
   "source": [
    "# Text cleaning function\n",
    "def clean_text(text):\n",
    "    if pd.isnull(text):\n",
    "        return \"\"\n",
    "    text = text.lower()\n",
    "    text = re.sub(r'\\b(re|fw)\\b', '', text)  # Remove \"Re:\" and \"FW:\"\n",
    "    text = re.sub(r'\\W+', ' ', text)  # Remove special characters\n",
    "    text = re.sub(r'\\d+', '', text)   # Remove numbers\n",
    "    text = re.sub(r'\\s+', ' ', text).strip()  # Remove extra spaces\n",
    "    return text\n",
    "\n",
    "# Apply cleaning to Subject & Body\n",
    "df[\"Processed_Subject\"] = df[\"Subject\"].apply(clean_text)\n",
    "df[\"Processed_Body\"] = df[\"Body\"].apply(clean_text)\n",
    "\n",
    "# Remove original text columns\n",
    "df = df.drop(columns=[\"Subject\", \"Body\"])\n"
   ]
  },
  {
   "cell_type": "code",
   "execution_count": null,
   "metadata": {},
   "outputs": [],
   "source": [
    "# Initialise TF-IDF Vectorizer\n",
    "vectorizer = TfidfVectorizer(stop_words=\"english\", max_features=500, ngram_range=(1,2))\n",
    "\n",
    "# Transform Subject & Body separately\n",
    "tfidf_subject = vectorizer.fit_transform(df[\"Processed_Subject\"])\n",
    "tfidf_body = vectorizer.fit_transform(df[\"Processed_Body\"])\n",
    "\n",
    "# Merge TF-IDF features into a single sparse matrix\n",
    "X = hstack([tfidf_subject, tfidf_body])  # Convert to sparse format for efficiency\n"
   ]
  },
  {
   "cell_type": "code",
   "execution_count": null,
   "metadata": {},
   "outputs": [],
   "source": [
    "wcss = []\n",
    "silhouette_scores = []\n",
    "K_range = range(2, 10)  # Try different values for k (2 to 10)\n",
    "\n",
    "for k in K_range:\n",
    "    kmeans = KMeans(n_clusters=k, random_state=42, n_init=10)\n",
    "    kmeans.fit(X)\n",
    "    wcss.append(kmeans.inertia_)  # Within-cluster sum of squares\n",
    "    silhouette_scores.append(silhouette_score(X, kmeans.labels_))\n",
    "\n",
    "# Plot Elbow Curve\n",
    "plt.figure(figsize=(8, 5))\n",
    "plt.plot(K_range, wcss, marker='o', linestyle='--')\n",
    "plt.xlabel(\"Number of Clusters (k)\")\n",
    "plt.ylabel(\"WCSS (Within Cluster Sum of Squares)\")\n",
    "plt.title(\"Elbow Method to Determine Optimal k\")\n",
    "plt.show()\n",
    "\n",
    "# Plot Silhouette Scores\n",
    "plt.figure(figsize=(8, 5))\n",
    "plt.plot(K_range, silhouette_scores, marker='s', linestyle='-')\n",
    "plt.xlabel(\"Number of Clusters (k)\")\n",
    "plt.ylabel(\"Silhouette Score\")\n",
    "plt.title(\"Silhouette Score for Different k\")\n",
    "plt.show()\n"
   ]
  },
  {
   "cell_type": "code",
   "execution_count": null,
   "metadata": {},
   "outputs": [],
   "source": [
    "# Set optimal k (based on the previous analysis)\n",
    "optimal_k = 5  # Adjust based on elbow & silhouette method results\n",
    "\n",
    "# Train k-Means model\n",
    "kmeans = KMeans(n_clusters=optimal_k, random_state=42, n_init=10)\n",
    "df[\"Cluster_Label\"] = kmeans.fit_predict(X)\n",
    "\n",
    "# Display Cluster Distribution\n",
    "print(df[\"Cluster_Label\"].value_counts())\n"
   ]
  },
  {
   "cell_type": "code",
   "execution_count": null,
   "metadata": {},
   "outputs": [],
   "source": [
    "# Sample emails for each cluster\n",
    "for cluster in range(optimal_k):\n",
    "    print(f\"\\nCluster {cluster} Sample Emails:\")\n",
    "    print(df[df[\"Cluster_Label\"] == cluster][[\"Processed_Subject\", \"Processed_Body\"]].sample(5))\n",
    "\n",
    "# Countplot of Cluster Distribution\n",
    "plt.figure(figsize=(6,4))\n",
    "sns.countplot(x=df[\"Cluster_Label\"])\n",
    "plt.xlabel(\"Cluster Label\")\n",
    "plt.ylabel(\"Number of Emails\")\n",
    "plt.title(\"Distribution of Emails in Clusters\")\n",
    "plt.show()\n"
   ]
  }
 ],
 "metadata": {
  "kernelspec": {
   "display_name": "Python 3",
   "language": "python",
   "name": "python3"
  },
  "language_info": {
   "codemirror_mode": {
    "name": "ipython",
    "version": 3
   },
   "file_extension": ".py",
   "mimetype": "text/x-python",
   "name": "python",
   "nbconvert_exporter": "python",
   "pygments_lexer": "ipython3",
   "version": "3.11.9"
  }
 },
 "nbformat": 4,
 "nbformat_minor": 2
}
